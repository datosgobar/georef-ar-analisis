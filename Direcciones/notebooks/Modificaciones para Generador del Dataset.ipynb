{
 "cells": [
  {
   "cell_type": "markdown",
   "metadata": {
    "ein.tags": "worksheet-0",
    "slideshow": {
     "slide_type": "-"
    }
   },
   "source": [
    "# Modificaciones a \"Generador del Dataset\""
   ]
  },
  {
   "cell_type": "code",
   "execution_count": 1,
   "metadata": {
    "autoscroll": false,
    "ein.hycell": false,
    "ein.tags": "worksheet-0",
    "slideshow": {
     "slide_type": "-"
    }
   },
   "outputs": [],
   "source": [
    "import re\n",
    "from unicodedata import normalize"
   ]
  },
  {
   "cell_type": "markdown",
   "metadata": {
    "ein.tags": "worksheet-0",
    "slideshow": {
     "slide_type": "-"
    }
   },
   "source": [
    "## Función `strip_accents`:"
   ]
  },
  {
   "cell_type": "code",
   "execution_count": 2,
   "metadata": {
    "autoscroll": false,
    "ein.hycell": false,
    "ein.tags": "worksheet-0",
    "slideshow": {
     "slide_type": "-"
    }
   },
   "outputs": [],
   "source": [
    "def strip_accents(string=None):\n",
    "    # -> NFD y eliminar diacríticos\n",
    "    s = re.sub(r\"([^n\\u0300-\\u036f]|n(?!\\u0303(?![\\u0300-\\u036f])))[\\u0300-\\u036f]+\", r\"\\1\", \n",
    "               normalize( \"NFD\", string), 0, re.I)\n",
    "    # -> NFC\n",
    "    return normalize( 'NFC', s).upper()\n"
   ]
  },
  {
   "cell_type": "markdown",
   "metadata": {
    "ein.tags": "worksheet-0",
    "slideshow": {
     "slide_type": "-"
    }
   },
   "source": [
    "Cambios:\n",
    "- Conviene no utilizar `None` como argumento default ya que 1) es el único argumento de la función y 2) esta función no puede hacer nada útil si no tiene un argumento.\n",
    "- Se puede evitar pasar `0` (que ya es el default) a `sub()` usando `flags=re.I`.\n",
    "- Usar entrecomillado consistente (' o \").\n",
    "- Cambios a indentación (max 79 columnas).\n",
    "- Conviene no utilizar nombres demasiado similares a built-ins (`string` ~ `str`)\n",
    "- La expresión regular es bastante compleja (tres paréntesis anidados), puede ser difícil de interpretar"
   ]
  },
  {
   "cell_type": "code",
   "execution_count": 3,
   "metadata": {
    "autoscroll": false,
    "ein.hycell": false,
    "ein.tags": "worksheet-0",
    "slideshow": {
     "slide_type": "-"
    }
   },
   "outputs": [],
   "source": [
    "def strip_accents(string):\n",
    "    # -> NFD y eliminar diacríticos\n",
    "    string = re.sub(\n",
    "        r'([^n\\u0300-\\u036f]|n(?!\\u0303(?![\\u0300-\\u036f])))[\\u0300-\\u036f]+',\n",
    "        r'\\1',\n",
    "        normalize('NFD', string),\n",
    "        flags=re.I\n",
    "    )\n",
    "\n",
    "    # -> NFC\n",
    "    return normalize('NFC', string).upper()"
   ]
  },
  {
   "cell_type": "code",
   "execution_count": 4,
   "metadata": {
    "autoscroll": false,
    "ein.hycell": false,
    "ein.tags": "worksheet-0",
    "slideshow": {
     "slide_type": "-"
    }
   },
   "outputs": [
    {
     "data": {
      "text/plain": [
       "'NORESTEÑA, N°º AGUITA'"
      ]
     },
     "execution_count": 4,
     "metadata": {},
     "output_type": "execute_result"
    }
   ],
   "source": [
    "s = strip_accents('NoréstÉñÃ, N°º âgüìta')\n",
    "s"
   ]
  },
  {
   "cell_type": "markdown",
   "metadata": {
    "ein.tags": "worksheet-0",
    "slideshow": {
     "slide_type": "-"
    }
   },
   "source": [
    "## Función `split_streets`:"
   ]
  },
  {
   "cell_type": "code",
   "execution_count": 5,
   "metadata": {
    "autoscroll": false,
    "ein.hycell": false,
    "ein.tags": "worksheet-0",
    "slideshow": {
     "slide_type": "-"
    }
   },
   "outputs": [],
   "source": [
    "def split_streets(string):\n",
    "    string = string.strip()\n",
    "    string = re.sub(r'(?=[0-9])(?<=[A-Z])', r' ', string)\n",
    "    string = re.sub(r'(?<=[0-9])(?=[A-Z])', r' ', string)\n",
    "    streets = re.compile(r'([A-Z0-9\\s°º,.]+)\\s(E|E/|ENT|ENTRE)\\s([A-Z0-9\\s.]+)\\sY\\s([A-Z0-9\\s°º.]+)')\n",
    "    # Esta expresion regular no contempla el caso \"calle1 ####, esquina Calle2\"\n",
    "    result = streets.search(string=string)\n",
    "    if result:\n",
    "        calle1 = result.groups()[0]\n",
    "        calle2 = result.groups()[2]\n",
    "        calle3 = result.groups()[3]\n",
    "    else:\n",
    "        streets = re.compile(r'([A-Z0-9\\s°º.]+)\\sY\\s([A-Z0-9\\s°º.]+)')\n",
    "        result = streets.search(string=string)\n",
    "        if result:\n",
    "            calle1, calle2 = result.groups()\n",
    "            calle3 = None\n",
    "        else:\n",
    "            calle1 = string\n",
    "            calle2 = None\n",
    "            calle3 = None\n",
    "    return calle1, calle2, calle3"
   ]
  },
  {
   "cell_type": "markdown",
   "metadata": {
    "ein.tags": "worksheet-0",
    "slideshow": {
     "slide_type": "-"
    }
   },
   "source": [
    "Cambios:\n",
    "- Conviene no utilizar nombres demasiado similares a built-ins (`string` ~ `str`)\n",
    "- La expresión regular `(?=[0-9])(?<=[A-Z])` es un poco confusa porque pone la lookahead assertion primero y luego una lookbehind.\n",
    "  Se podría modificar para que 1) no use assertions 2) tenga el orden correcto.\n",
    "- La expresión regular `'(?<=[0-9])(?=[A-Z])'` podría ser modificada para que no use assertions.\n",
    "- Cambios a indentación (max 79 columnas).\n",
    "- Utilizar inglés consistentemente (para código).\n",
    "- Llamar a `compile` manualmente es innecesario ya que `re` mantiene un cache con las últimas ER utilizadas. Si igualmente queremos compilarla, es mejor hacerlo\n",
    "  a nivel módulo (para asegurarse de que nunca se pierda su versión cacheada). El llamado a `compile` debería ser considerado como algo caro que no queremos hacer en cada\n",
    "  llamada a la función.\n",
    "- Se podría cambiar la clase `[A-Z0-9\\s°º.]` por `[\\w\\s°º.]` y combinarla con `re.IGNORECASE` para no tener que utilizar `strip_accents`.\n",
    "- Se podría cambiar la clase `[A-Z]` por `[^\\d\\W]` y combinarla con `re.IGNORECASE` para no tener que utilizar `strip_accents`.\n",
    "- Se podría cambiar la clase `[0-9]` por `\\d`.\n",
    "- Se puede utilizar `Match.group()` con varios argumentos (índices) para retornar tuplas de resultados directamente.\n",
    "- Cambios estructurales con early returns\n",
    "- Normalzación de espacios"
   ]
  },
  {
   "cell_type": "code",
   "execution_count": 6,
   "metadata": {
    "autoscroll": false,
    "ein.hycell": false,
    "ein.tags": "worksheet-0",
    "slideshow": {
     "slide_type": "-"
    }
   },
   "outputs": [],
   "source": [
    "# Esta expresion regular no contempla el caso \"calle1 ####, esquina Calle2\"\n",
    "STREET_PATTERN_3 = \\\n",
    "    r'([\\w\\s°º,.]+)\\s(E|E/|ENT|ENTRE)\\s([\\w\\s.]+)\\sY\\s([\\w\\s°º.]+)'\n",
    "\n",
    "STREET_PATTERN_2 = r'([\\w\\s°º.]+)\\sY\\s([\\w\\s°º.]+)'\n",
    "\n",
    "def split_streets(string):\n",
    "    string = ' '.join(string.split())\n",
    "    string = re.sub(r'(\\d)([^\\d\\W])', r'\\1 \\2', string, flags=re.I)\n",
    "    string = re.sub(r'([^\\d\\W])(\\d)', r'\\1 \\2', string, flags=re.I)\n",
    "\n",
    "    result = re.search(STREET_PATTERN_3, string, re.I)\n",
    "\n",
    "    if result:\n",
    "        return result.group(1, 3, 4)\n",
    "\n",
    "    result = re.search(STREET_PATTERN_2, string, re.I)\n",
    "    if result:\n",
    "        street1, street2 = result.groups()\n",
    "        return street1, street2, None\n",
    "\n",
    "    return string, None, None"
   ]
  },
  {
   "cell_type": "code",
   "execution_count": 7,
   "metadata": {
    "autoscroll": false,
    "ein.hycell": false,
    "ein.tags": "worksheet-0",
    "slideshow": {
     "slide_type": "-"
    }
   },
   "outputs": [
    {
     "name": "stdout",
     "output_type": "stream",
     "text": [
      "('BELGRANO', 'ENTRE RIOS', None)\n",
      "('RUTA 8 KM 52', None, None)\n",
      "('F.ALCORTA', 'PAMPA', None)\n",
      "('SAN JUAN DE DIOS 666,', 'BELGRANO', 'ENTRE RIOS')\n",
      "('YATAY 541', None, None)\n",
      "('CALLE 41 12', '1', '2')\n",
      "('Arribeños 5743', None, None)\n",
      "('Tucumán 302', 'Córdoba', 'Entre Ríos')\n",
      "('Arribeños 33', None, None)\n"
     ]
    }
   ],
   "source": [
    "# Test de la función 'split_streets()'\n",
    "string = [\n",
    "    'BELGRANO Y ENTRE RIOS','RUTA 8 KM 52','F.ALCORTA Y PAMPA',\n",
    "    'SAN JUAN DE DIOS 666, ENT BELGRANO Y ENTRE RIOS',\n",
    "    'YATAY 541',\n",
    "    'CALLE 41 12 E/ 1 Y 2',\n",
    "    'Arribeños 5743',\n",
    "    'Tucumán 302 entre Córdoba y Entre Ríos',\n",
    "    'Arribeños33'\n",
    "]\n",
    "\n",
    "for s in string:\n",
    "    print(split_streets(s))"
   ]
  },
  {
   "cell_type": "markdown",
   "metadata": {
    "ein.tags": "worksheet-0",
    "slideshow": {
     "slide_type": "-"
    }
   },
   "source": [
    "## Función `numeracion`:"
   ]
  },
  {
   "cell_type": "code",
   "execution_count": 8,
   "metadata": {
    "autoscroll": false,
    "ein.hycell": false,
    "ein.tags": "worksheet-0",
    "slideshow": {
     "slide_type": "-"
    }
   },
   "outputs": [],
   "source": [
    "def numeracion(string):\n",
    "    numer = re.compile('([\\s][N°ºKM]{,2})[\\s]{0,}([0-9]+)')\n",
    "\n",
    "    delete = ['CALLE','AVENIDA','AV.','AV','RUTA','NACIONAL','NAC.','NAC','PROVINCIAL','PROV.','PROV',\n",
    "              'DIAGONAL','DIAG.','DIAG','BOULEVARD','BV.','BV'] # Esta parte es complicada.... No me gusta\n",
    "\n",
    "    for word in delete:\n",
    "        try:\n",
    "            string = string.replace(word,'')\n",
    "        except:\n",
    "            pass\n",
    "    try:\n",
    "        string = string.strip()\n",
    "        string = re.sub(r'(?=[0-9])(?<=[A-Z])', r' ', string)\n",
    "        string = re.sub(r'(?<=[0-9])(?=[A-Z])', r' ', string)\n",
    "        result = numer.search(string=string)\n",
    "        return result.group().strip()\n",
    "    except:\n",
    "        return None"
   ]
  },
  {
   "cell_type": "markdown",
   "metadata": {
    "ein.tags": "worksheet-0",
    "slideshow": {
     "slide_type": "-"
    }
   },
   "source": [
    "Cambios:\n",
    "- Conviene no utilizar nombres demasiado similares a built-ins (`string` ~ `str`, `delete` ~ `del`).\n",
    "- Usar inglés para el código.\n",
    "- Misma observación sobre `compile`.\n",
    "- La lista de strings podría ponerse afuera de la función para que no se cree nuevamente en cada llamado.\n",
    "- Se puede reemplazar `[0-9]` con `\\d`.\n",
    "- Se puede reemplazar `[\\s]` con `\\s`.\n",
    "- Se puede reemplazar `{0,}` con `*`.\n",
    "- `[N°ºKM]{,2}` puede llegar a matchear `MM` o `°°`, reemplazar con `(n[°º]?|km)?`.\n",
    "- Usar raw strings (r'') para evitar secuencias de escape inválidas\n",
    "- La parte que separa letras y números es igual a la de `split_streets`, se podría sacar esa parte a otra función.\n",
    "- El try/except con `str.replace()` no es necesario ya que la función no lanza excepciones.\n",
    "  + `except: pass` no debe usarse porque ignora *todos* los errores posibles (raramente/casi nunca es lo que queremos)\n",
    "- El segundo try/except es demasiado general (no especifica tipos de excepciones), y podría cambiarse con un `if`, ya que\n",
    "  la única parte del código que puede fallar es el `.strip()` de `result.group()`."
   ]
  },
  {
   "cell_type": "code",
   "execution_count": 9,
   "metadata": {
    "autoscroll": false,
    "ein.hycell": false,
    "ein.tags": "worksheet-0",
    "slideshow": {
     "slide_type": "-"
    }
   },
   "outputs": [],
   "source": [
    "# Version 1\n",
    "def separate_alpha_nums(string):\n",
    "    string = re.sub(r'(\\d)([^\\d\\W])', r'\\1 \\2', string, flags=re.I)\n",
    "    return re.sub(r'([^\\d\\W])(\\d)', r'\\1 \\2', string, flags=re.I)\n",
    "\n",
    " # Esta parte es complicada.... No me gusta\n",
    "STREET_KEYWORDS = ['CALLE', 'AVENIDA', 'AV.','AV', 'RUTA', 'NACIONAL', 'NAC.',\n",
    "                   'NAC', 'PROVINCIAL', 'PROV.', 'PROV', 'DIAGONAL', 'DIAG.',\n",
    "                   'DIAG', 'BOULEVARD', 'BV.', 'BV']\n",
    "\n",
    "STREET_NUM_REGEXP = r'\\s(n[°º]?|km)?\\s*(\\d+)'\n",
    "\n",
    "def street_number(string):\n",
    "    for word in STREET_KEYWORDS:\n",
    "        string = string.replace(word,'')\n",
    "\n",
    "    string = separate_alpha_nums(string).strip()\n",
    "    result = re.search(STREET_NUM_REGEXP, string, flags=re.I)\n",
    "    return result.group().strip() if result else None"
   ]
  },
  {
   "cell_type": "code",
   "execution_count": 10,
   "metadata": {
    "autoscroll": false,
    "ein.hycell": false,
    "ein.tags": "worksheet-0",
    "slideshow": {
     "slide_type": "-"
    }
   },
   "outputs": [
    {
     "name": "stdout",
     "output_type": "stream",
     "text": [
      "N°4859\n",
      "N  4859\n",
      "N 4859\n",
      "N 2710\n",
      "4680\n",
      "None\n",
      "None\n",
      "Nº 335\n",
      "2019\n",
      "243\n",
      "None\n",
      "None\n",
      "KM 52\n",
      "322\n",
      "59\n"
     ]
    }
   ],
   "source": [
    "# Test de la función 'street_number()'\n",
    "string = ['JOSE HERNANDEZ N°4859 8D','JOSE HERNANDEZ N  4859 8D','JOSE HERNANDEZ N4859 8TOD','35 N 2710',\n",
    "          '141 BIS 4680','3458','GURRUCHAGA','CARMEN Nº335 5°C', 'PERÓN2019','25 DE MAYO 243 7A','552 BIS','41',\n",
    "          'RUTA 8 KM 52','AV. 25 DE MAYO 322','CALLE 543 59']#,'RUTA 36 KM 41 1/2']<= Con este no funciona...\n",
    "\n",
    "for s in string:\n",
    "    print(street_number(s))"
   ]
  },
  {
   "cell_type": "markdown",
   "metadata": {
    "ein.tags": "worksheet-0",
    "slideshow": {
     "slide_type": "-"
    }
   },
   "source": [
    "## Función `unidades`"
   ]
  },
  {
   "cell_type": "code",
   "execution_count": 11,
   "metadata": {
    "autoscroll": false,
    "ein.hycell": false,
    "ein.tags": "worksheet-0",
    "slideshow": {
     "slide_type": "-"
    }
   },
   "outputs": [],
   "source": [
    "def unidades(string):\n",
    "    try:\n",
    "        string = string.strip() \n",
    "        unid = re.compile('([N°ºKM]{,2})[\\s]{0,}([0-9]+)')\n",
    "        result = unid.search(string=string)\n",
    "        ans = result.groups()\n",
    "    except:\n",
    "        ans = (None,None)\n",
    "    return ans"
   ]
  },
  {
   "cell_type": "markdown",
   "metadata": {
    "ein.tags": "worksheet-0",
    "slideshow": {
     "slide_type": "-"
    }
   },
   "source": [
    "Cambios:\n",
    "- Misma observación con `compile` y nombre de variable `string`.\n",
    "- También mismas observaciones con detalles de la expresión regular `([N°ºKM]{,2})[\\s]{0,}([0-9]+)`.\n",
    "- Código en inglés\n",
    "- El try/except es demasiado abarcativo (no especfica tipo de excepción)\n",
    "  + Igualmente se lo puede remover porque sabemos puntualmente dónde se pueden dar errores\n",
    "- No es necesario que la función maneje casos donde `string == None` (ver precondiciones y postcondiciones)"
   ]
  },
  {
   "cell_type": "code",
   "execution_count": 12,
   "metadata": {
    "autoscroll": false,
    "ein.hycell": false,
    "ein.tags": "worksheet-0",
    "slideshow": {
     "slide_type": "-"
    }
   },
   "outputs": [],
   "source": [
    "def units(string):\n",
    "    string = string.strip()\n",
    "    result = re.search(r'(n[°º]?|km)?\\s*(\\d+)', string, re.I)\n",
    "    return result.groups() if result else (None, None)"
   ]
  },
  {
   "cell_type": "code",
   "execution_count": 13,
   "metadata": {
    "autoscroll": false,
    "ein.hycell": false,
    "ein.tags": "worksheet-0",
    "slideshow": {
     "slide_type": "-"
    }
   },
   "outputs": [
    {
     "name": "stdout",
     "output_type": "stream",
     "text": [
      "('N°', '4859')\n",
      "('N', '4859')\n",
      "(None, '4680')\n",
      "('KM', '52')\n"
     ]
    }
   ],
   "source": [
    "string = ['N°4859','N 4859','4680''Nº 335','KM 52']\n",
    "\n",
    "for s in string:\n",
    "    print(units(s))"
   ]
  },
  {
   "cell_type": "markdown",
   "metadata": {
    "ein.tags": "worksheet-0",
    "slideshow": {
     "slide_type": "-"
    }
   },
   "source": [
    "## Función `normalización`"
   ]
  },
  {
   "cell_type": "code",
   "execution_count": 14,
   "metadata": {
    "autoscroll": false,
    "ein.hycell": false,
    "ein.tags": "worksheet-0",
    "slideshow": {
     "slide_type": "-"
    }
   },
   "outputs": [],
   "source": [
    "def normalizacion(string):\n",
    "    string = strip_accents(string)\n",
    "    calle1,calle2,calle3 = split_streets(string)\n",
    "    num1 = numeracion(calle1)\n",
    "    if type(num1) is str:\n",
    "        calle1 = calle1.split(num1)[0]\n",
    "    num2 = numeracion(calle2)\n",
    "    if type(num2) is str:\n",
    "        calle2 = calle2.split(num2)[0]\n",
    "    num3 = numeracion(calle3)\n",
    "    if type(num3) is str:\n",
    "        calle3 = calle3.split(num3)[0]\n",
    "    num = [num1,num2,num3]\n",
    "    for n in num:\n",
    "        if n is None:\n",
    "            num[num.index(n)] = ''\n",
    "        else:\n",
    "            pass\n",
    "    num = ''.join(map(str, num))\n",
    "    unid,num = unidades(num)\n",
    "    return calle1,calle2,calle3,unid,num"
   ]
  },
  {
   "cell_type": "markdown",
   "metadata": {
    "ein.tags": "worksheet-0",
    "slideshow": {
     "slide_type": "-"
    }
   },
   "source": [
    "Cambios:\n",
    "- Salteo la parte de `strip_accents`\n",
    "- Nombres en inglés\n",
    "- Usar conversión implícita a `bool` para checkear si un string está presente (no `type()`)\n",
    "  + Incluso si se quiere checkear el tipo de algo, es mejor usar `isinstance()`\n",
    "  + Igualmente en muy pocos casos (y muy específicos) es necesario checkear tipos (ver 'Duck Typing')\n",
    "- Hay un bloque de código que se repite 3 veces, es mejor trabajar con listas y usar `for`\n",
    "- No es conveniente modificar un contenedor mientras se está iterando sobre el mismo\n",
    "- Se pueden utilizar list comprehensions para extraer los valores no-`None` de la lista\n",
    "- `else`: `pass` no tiene efectos\n",
    "- Al devolver tantos valores, es conveniente utilizar un diccionario (`dict`) en vez de una tupla."
   ]
  },
  {
   "cell_type": "code",
   "execution_count": 15,
   "metadata": {
    "autoscroll": false,
    "ein.hycell": false,
    "ein.tags": "worksheet-0",
    "slideshow": {
     "slide_type": "-"
    }
   },
   "outputs": [],
   "source": [
    "def normalize_address(string):\n",
    "    streets = split_streets(string)\n",
    "    street_names = []\n",
    "    numbers = []\n",
    "\n",
    "    for street in streets:\n",
    "        number = street_number(street) if street else None\n",
    "\n",
    "        if number:\n",
    "            street_names.append(street.split(number)[0])\n",
    "        else:\n",
    "            street_names.append(street)\n",
    "\n",
    "        numbers.append(number)\n",
    "\n",
    "    number_and_unit = ''.join([str(n) for n in numbers if n])\n",
    "    unit, number = units(number_and_unit)\n",
    "\n",
    "    return {\n",
    "        'street_names': street_names,\n",
    "        'number': number,\n",
    "        'unit': unit\n",
    "    }\n",
    "\n",
    "    "
   ]
  },
  {
   "cell_type": "code",
   "execution_count": 16,
   "metadata": {
    "autoscroll": false,
    "ein.hycell": false,
    "ein.tags": "worksheet-0",
    "slideshow": {
     "slide_type": "-"
    }
   },
   "outputs": [
    {
     "name": "stdout",
     "output_type": "stream",
     "text": [
      "{'street_names': ['BELGRANO', 'ENTRE RIOS', None], 'number': None, 'unit': None}\n",
      "{'street_names': ['RUTA 8 ', None, None], 'number': '52', 'unit': 'KM'}\n",
      "{'street_names': ['F.ALCORTA', 'PAMPA', None], 'number': None, 'unit': None}\n",
      "{'street_names': ['SAN JUAN DE DIOS ', 'BELGRANO', 'ENTRE RIOS'], 'number': '666', 'unit': 'N°'}\n",
      "{'street_names': ['YATAY ', None, None], 'number': '541', 'unit': None}\n",
      "{'street_names': ['CALLE 41 ', '1', '2'], 'number': '12', 'unit': None}\n",
      "{'street_names': ['ENTRE RIOS ', 'TUCUMAN', 'INDEPENDENCIA'], 'number': '334', 'unit': None}\n",
      "{'street_names': ['Tucumán ', 'Córdoba', 'Entre Ríos'], 'number': '3443', 'unit': 'N°'}\n"
     ]
    }
   ],
   "source": [
    "addresses = ['BELGRANO Y ENTRE RIOS','RUTA 8 KM 52','F.ALCORTA Y PAMPA',\n",
    "             'SAN JUAN DE DIOS N°666, ENT BELGRANO Y ENTRE RIOS',\n",
    "             'YATAY 541', 'CALLE 41 12 E/ 1 Y 2',\n",
    "             'ENTRE RIOS 334 E/ TUCUMAN Y INDEPENDENCIA',\n",
    "             'Tucumán N° 3443 entre Córdoba y Entre Ríos']\n",
    "\n",
    "for address in addresses:\n",
    "    print(normalize_address(address))"
   ]
  }
 ],
 "metadata": {
  "kernelspec": {
   "display_name": "Python 3",
   "language": "python",
   "name": "python3"
  },
  "language_info": {
   "codemirror_mode": {
    "name": "ipython",
    "version": 3
   },
   "file_extension": ".py",
   "mimetype": "text/x-python",
   "name": "python",
   "nbconvert_exporter": "python",
   "pygments_lexer": "ipython3",
   "version": "3.6.4"
  },
  "name": "Modificaciones para Generador del Dataset.ipynb"
 },
 "nbformat": 4,
 "nbformat_minor": 2
}
